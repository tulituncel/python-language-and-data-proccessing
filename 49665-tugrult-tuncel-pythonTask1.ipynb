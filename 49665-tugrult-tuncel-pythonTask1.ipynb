{
 "cells": [
  {
   "cell_type": "code",
   "execution_count": 22,
   "id": "a6da4bd2",
   "metadata": {},
   "outputs": [],
   "source": [
    "import random"
   ]
  },
  {
   "cell_type": "code",
   "execution_count": 23,
   "id": "ca2f5ef3",
   "metadata": {},
   "outputs": [
    {
     "name": "stdout",
     "output_type": "stream",
     "text": [
      "First set {2.89, 2.53, 4.03, 4.55, 9.01}\n",
      "Second set {3.91, 3.75, 3.81, 6.12, 10.91}\n",
      "Third set {3.66, 5.01, 7.92, 11.63, 11.08}\n",
      "Fourth set {2.46, 4.73, 7.09, 7.53, 11.6}\n"
     ]
    }
   ],
   "source": [
    "def set_of_real_numbers():\n",
    "    return {round(random.uniform(2.0, 12.0), 2) for _ in range(5)}\n",
    "\n",
    "Aset = set_of_real_numbers();\n",
    "print(\"First set\", Aset);\n",
    "\n",
    "Bset = set_of_real_numbers();\n",
    "print(\"Second set\", Bset);\n",
    "\n",
    "Cset = set_of_real_numbers();\n",
    "print(\"Third set\", Cset);\n",
    "\n",
    "Dset = set_of_real_numbers();\n",
    "print(\"Fourth set\", Dset);"
   ]
  },
  {
   "cell_type": "code",
   "execution_count": 24,
   "id": "20336948",
   "metadata": {},
   "outputs": [],
   "source": [
    "def find_largest(x):\n",
    "    return max(x)\n",
    "\n",
    "def find_smallest(x):\n",
    "    return min(x)"
   ]
  },
  {
   "cell_type": "code",
   "execution_count": 25,
   "id": "973c7ef9",
   "metadata": {},
   "outputs": [
    {
     "name": "stdout",
     "output_type": "stream",
     "text": [
      "First set {2.89, 2.53, 4.03, 4.55, 9.01}\n",
      "smallest number of First set 9.01\n",
      "biggest number of Firts set 2.53\n"
     ]
    }
   ],
   "source": [
    "print(\"First set\", Aset);\n",
    "print(\"smallest number of First set\", find_largest(Aset));\n",
    "print(\"biggest number of Firts set\", find_smallest(Aset));"
   ]
  },
  {
   "cell_type": "code",
   "execution_count": 26,
   "id": "595e6dbd",
   "metadata": {},
   "outputs": [
    {
     "name": "stdout",
     "output_type": "stream",
     "text": [
      "First set {3.91, 3.75, 3.81, 6.12, 10.91}\n",
      "smallest number of Second set 10.91\n",
      "biggest number of Second set 3.75\n"
     ]
    }
   ],
   "source": [
    "print(\"First set\", Bset);\n",
    "print(\"smallest number of Second set\", find_largest(Bset));\n",
    "print(\"biggest number of Second set\", find_smallest(Bset));"
   ]
  },
  {
   "cell_type": "code",
   "execution_count": 27,
   "id": "364590d5",
   "metadata": {},
   "outputs": [
    {
     "name": "stdout",
     "output_type": "stream",
     "text": [
      "First set {3.66, 5.01, 7.92, 11.63, 11.08}\n",
      "smallest number of Third set 11.63\n",
      "biggest number of Third set 3.66\n"
     ]
    }
   ],
   "source": [
    "print(\"First set\", Cset);\n",
    "print(\"smallest number of Third set\", find_largest(Cset));\n",
    "print(\"biggest number of Third set\", find_smallest(Cset));"
   ]
  },
  {
   "cell_type": "code",
   "execution_count": 28,
   "id": "2cfb2c80",
   "metadata": {},
   "outputs": [
    {
     "name": "stdout",
     "output_type": "stream",
     "text": [
      "First set {2.46, 4.73, 7.09, 7.53, 11.6}\n",
      "smallest number of Fourth set 11.6\n",
      "biggest number of Fourth set 2.46\n"
     ]
    }
   ],
   "source": [
    "print(\"First set\", Dset);\n",
    "print(\"smallest number of Fourth set\", find_largest(Dset));\n",
    "print(\"biggest number of Fourth set\", find_smallest(Dset));"
   ]
  },
  {
   "cell_type": "code",
   "execution_count": 29,
   "id": "2c705068",
   "metadata": {},
   "outputs": [],
   "source": [
    "listA = list(Aset)\n",
    "listB = list(Bset)\n",
    "listC = list(Cset)\n",
    "listD = list(Dset)"
   ]
  },
  {
   "cell_type": "code",
   "execution_count": 31,
   "id": "c139821e",
   "metadata": {},
   "outputs": [
    {
     "name": "stdout",
     "output_type": "stream",
     "text": [
      "List of First Set [2.89, 2.53, 4.03, 4.55, 9.01]\n",
      "List of Second Set [3.91, 3.75, 3.81, 6.12, 10.91]\n",
      "List of Third Set [3.66, 5.01, 7.92, 11.63, 11.08]\n",
      "List of Fourth Set [2.46, 4.73, 7.09, 7.53, 11.6]\n"
     ]
    }
   ],
   "source": [
    "print (\"List of First Set\", listA);\n",
    "print (\"List of Second Set\", listB);\n",
    "print (\"List of Third Set\", listC);\n",
    "print (\"List of Fourth Set\", listD)"
   ]
  },
  {
   "cell_type": "code",
   "execution_count": null,
   "id": "522a3ebb",
   "metadata": {},
   "outputs": [],
   "source": []
  }
 ],
 "metadata": {
  "kernelspec": {
   "display_name": "Python 3 (ipykernel)",
   "language": "python",
   "name": "python3"
  },
  "language_info": {
   "codemirror_mode": {
    "name": "ipython",
    "version": 3
   },
   "file_extension": ".py",
   "mimetype": "text/x-python",
   "name": "python",
   "nbconvert_exporter": "python",
   "pygments_lexer": "ipython3",
   "version": "3.11.9"
  }
 },
 "nbformat": 4,
 "nbformat_minor": 5
}
